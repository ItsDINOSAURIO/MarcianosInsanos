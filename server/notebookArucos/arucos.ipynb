{
 "cells": [
  {
   "cell_type": "markdown",
   "metadata": {},
   "source": [
    "<a target=\"_blank\" href=\"https://colab.research.google.com/github/luisferdev11/MarcianosInsanos/blob/main/server/notebookArucos/arucos.ipynb\">\n",
    "  <img src=\"https://colab.research.google.com/assets/colab-badge.svg\" alt=\"Open In Colab\"/>\n",
    "</a>"
   ]
  },
  {
   "cell_type": "markdown",
   "metadata": {},
   "source": [
    "## Obtener las imagenes de prueba"
   ]
  },
  {
   "cell_type": "code",
   "execution_count": null,
   "metadata": {},
   "outputs": [],
   "source": [
    "import requests\n",
    "from PIL import Image\n",
    "from io import BytesIO\n",
    "import os\n",
    "\n",
    "def download_image(url, save_path):\n",
    "    response = requests.get(url)\n",
    "    img = Image.open(BytesIO(response.content))\n",
    "    img.save(save_path)\n",
    "\n",
    "# Lista de URLs de las imágenes en GitHub\n",
    "image_urls = [\n",
    "    'https://github.com/luisferdev11/MarcianosInsanos/raw/main/server/notebookArucos/arucosample.jpg',\n",
    "    'https://github.com/luisferdev11/MarcianosInsanos/raw/main/server/notebookArucos/images.jpeg',\n",
    "    'https://github.com/luisferdev11/MarcianosInsanos/raw/main/server/notebookArucos/InputImage.jpg',\n",
    "    'https://github.com/luisferdev11/MarcianosInsanos/raw/main/server/notebookArucos/otroaruco.jpeg'\n",
    "]\n",
    "\n",
    "# Crear una carpeta para guardar las imágenes descargadas\n",
    "os.makedirs('images', exist_ok=True)\n",
    "\n",
    "# Descargar y guardar todas las imágenes\n",
    "for i, url in enumerate(image_urls):\n",
    "    download_image(url, f'images/image_{i}.jpeg')\n",
    "\n",
    "# Mostrar una de las imágenes como ejemplo\n",
    "img = Image.open('images/image_0.jpeg')\n",
    "img.show()\n"
   ]
  },
  {
   "cell_type": "code",
   "execution_count": null,
   "metadata": {},
   "outputs": [],
   "source": [
    "import cv2\n",
    "import matplotlib.pyplot as plt\n",
    "\n",
    "# Cambiando el aruco DICT es diferente el formato\n",
    "# dictionary = cv2.aruco.getPredefinedDictionary(cv2.aruco.DICT_6X6_250)\n",
    "dictionary = cv2.aruco.getPredefinedDictionary(cv2.aruco.DICT_4X4_250)\n",
    "\n",
    "marker_id = 0 #id a generar\n",
    "marker_size = 2000 #resolucion\n",
    "marker_image = cv2.aruco.generateImageMarker(dictionary, marker_id, marker_size)\n",
    "\n",
    "# Guarda la imagen del marcador ArUco\n",
    "cv2.imwrite(\"marker.png\", marker_image)\n",
    "\n",
    "plt.imshow(marker_image, cmap='gray')\n",
    "plt.axis('off')\n",
    "plt.show()"
   ]
  },
  {
   "cell_type": "code",
   "execution_count": null,
   "metadata": {},
   "outputs": [],
   "source": [
    "import cv2\n",
    "import matplotlib.pyplot as plt\n",
    "\n",
    "# Carga la imagen en la que quieres detectar el marcador\n",
    "# image = cv2.imread(\"InputImage.jpg\") \n",
    "# image = cv2.imread(\"images.jpeg\")\n",
    "image = cv2.imread(\"images/image_0.jpeg\")\n",
    "# image = cv2.imread(\"otroaruco.jpeg\")\n",
    "\n",
    "# Convierte la imagen a escala de grises\n",
    "gray = cv2.cvtColor(image, cv2.COLOR_BGR2GRAY)\n",
    "plt.imshow(gray, cmap='gray')\n",
    "plt.axis('off')\n",
    "plt.show()\n",
    "\n",
    "# Carga el diccionario de marcadores ArUco\n",
    "dictionary = cv2.aruco.getPredefinedDictionary(cv2.aruco.DICT_4X4_250)\n",
    "\n",
    "# Detecta los marcadores en la imagen\n",
    "corners, ids, rejectedImgPoints = cv2.aruco.detectMarkers(gray, dictionary)\n",
    "\n",
    "# Si se detectan marcadores, imprime los IDs\n",
    "if ids is not None:\n",
    "  # Dibuja un borde verde alrededor de cada marcador detectado\n",
    "  cv2.aruco.drawDetectedMarkers(image, corners, ids, borderColor=(0, 255, 0)) \n",
    "\n",
    "  # Imprime las coordenadas de las esquinas de cada marcador\n",
    "  for i in range(len(ids)):\n",
    "    print(\"Coordenadas del marcador con ID\", ids[i][0], \":\")\n",
    "    for j in range(4):\n",
    "      print(\"Esquina\", j+1, \":\", corners[i][0][j])\n",
    "\n",
    "  # Muestra la imagen con los bordes dibujados\n",
    "  plt.imshow(cv2.cvtColor(image, cv2.COLOR_BGR2RGB))\n",
    "  plt.axis('off')\n",
    "  plt.show()\n",
    "else:\n",
    "  print(\"No se detectaron marcadores, por lo que no se pueden dibujar bordes.\")"
   ]
  }
 ],
 "metadata": {
  "language_info": {
   "name": "python"
  }
 },
 "nbformat": 4,
 "nbformat_minor": 2
}
