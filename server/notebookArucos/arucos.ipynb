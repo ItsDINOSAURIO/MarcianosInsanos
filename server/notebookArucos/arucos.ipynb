{
 "cells": [
  {
   "cell_type": "markdown",
   "metadata": {},
   "source": [
    "<a target=\"_blank\" href=\"https://colab.research.google.com/github/luisferdev11/MarcianosInsanos/blob/main/server/notebookArucos/arucos.ipynb\">\n",
    "  <img src=\"https://colab.research.google.com/assets/colab-badge.svg\" alt=\"Open In Colab\"/>\n",
    "</a>"
   ]
  },
  {
   "cell_type": "code",
   "execution_count": null,
   "metadata": {},
   "outputs": [],
   "source": [
    "import cv2\n",
    "import matplotlib.pyplot as plt\n",
    "\n",
    "# Cambiando el aruco DICT es diferente el formato\n",
    "# dictionary = cv2.aruco.getPredefinedDictionary(cv2.aruco.DICT_6X6_250)\n",
    "dictionary = cv2.aruco.getPredefinedDictionary(cv2.aruco.DICT_4X4_250)\n",
    "\n",
    "marker_id = 0 #id a generar\n",
    "marker_size = 2000 #resolucion\n",
    "marker_image = cv2.aruco.generateImageMarker(dictionary, marker_id, marker_size)\n",
    "\n",
    "# Guarda la imagen del marcador ArUco\n",
    "cv2.imwrite(\"marker.png\", marker_image)\n",
    "\n",
    "plt.imshow(marker_image, cmap='gray')\n",
    "plt.axis('off')\n",
    "plt.show()"
   ]
  },
  {
   "cell_type": "code",
   "execution_count": null,
   "metadata": {},
   "outputs": [],
   "source": [
    "import cv2\n",
    "\n",
    "# Carga la imagen en la que quieres detectar el marcador\n",
    "# image = cv2.imread(\"InputImage.jpg\") \n",
    "# image = cv2.imread(\"images.jpeg\")\n",
    "image = cv2.imread(\"arucosample.jpg\")\n",
    "# image = cv2.imread(\"otroaruco.jpeg\")\n",
    "\n",
    "# Convierte la imagen a escala de grises\n",
    "gray = cv2.cvtColor(image, cv2.COLOR_BGR2GRAY)\n",
    "plt.imshow(gray, cmap='gray')\n",
    "plt.axis('off')\n",
    "plt.show()\n",
    "\n",
    "# Carga el diccionario de marcadores ArUco\n",
    "dictionary = cv2.aruco.getPredefinedDictionary(cv2.aruco.DICT_4X4_250)\n",
    "\n",
    "# Detecta los marcadores en la imagen\n",
    "corners, ids, rejectedImgPoints = cv2.aruco.detectMarkers(gray, dictionary)\n",
    "\n",
    "# Si se detectan marcadores, imprime los IDs\n",
    "if ids is not None:\n",
    "  for id in ids:\n",
    "    print(\"Se detectó un marcador con ID:\", id[0])\n",
    "else:\n",
    "  print(\"No se detectaron marcadores ArUco en la imagen.\")"
   ]
  }
 ],
 "metadata": {
  "language_info": {
   "name": "python"
  }
 },
 "nbformat": 4,
 "nbformat_minor": 2
}
